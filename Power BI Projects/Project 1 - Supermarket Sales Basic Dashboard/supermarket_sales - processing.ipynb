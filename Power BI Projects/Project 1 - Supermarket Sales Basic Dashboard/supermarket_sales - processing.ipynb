{
 "cells": [
  {
   "cell_type": "code",
   "execution_count": 1,
   "id": "ee27f4f9",
   "metadata": {},
   "outputs": [],
   "source": [
    "import pandas as pd"
   ]
  },
  {
   "cell_type": "code",
   "execution_count": 20,
   "id": "69aae2fe",
   "metadata": {},
   "outputs": [],
   "source": [
    "df = pd.read_csv(\"supermarket_sales.csv\")"
   ]
  },
  {
   "cell_type": "code",
   "execution_count": 14,
   "id": "b33915a3",
   "metadata": {},
   "outputs": [
    {
     "data": {
      "text/plain": [
       "0      01/05/2019\n",
       "1      03/08/2019\n",
       "2      03/03/2019\n",
       "3      01/27/2019\n",
       "4      02/08/2019\n",
       "          ...    \n",
       "995    01/29/2019\n",
       "996    03/02/2019\n",
       "997    02/09/2019\n",
       "998    02/22/2019\n",
       "999    02/18/2019\n",
       "Name: Date, Length: 1000, dtype: object"
      ]
     },
     "execution_count": 14,
     "metadata": {},
     "output_type": "execute_result"
    }
   ],
   "source": [
    "df[\"Date\"]"
   ]
  },
  {
   "cell_type": "code",
   "execution_count": 22,
   "id": "38a91c60",
   "metadata": {},
   "outputs": [
    {
     "data": {
      "text/plain": [
       "0      05/01/2019\n",
       "1      08/03/2019\n",
       "2      03/03/2019\n",
       "3      27/01/2019\n",
       "4      08/02/2019\n",
       "          ...    \n",
       "995    29/01/2019\n",
       "996    02/03/2019\n",
       "997    09/02/2019\n",
       "998    22/02/2019\n",
       "999    18/02/2019\n",
       "Name: Date, Length: 1000, dtype: object"
      ]
     },
     "execution_count": 22,
     "metadata": {},
     "output_type": "execute_result"
    }
   ],
   "source": [
    "df[\"Date\"] = pd.to_datetime(df[\"Date\"], format='%m/%d/%Y')\n",
    "df[\"Date\"] = df[\"Date\"].dt.strftime('%d/%m/%Y')\n",
    "df[\"Date\"]"
   ]
  },
  {
   "cell_type": "code",
   "execution_count": 23,
   "id": "37daaafe",
   "metadata": {},
   "outputs": [],
   "source": [
    "df.to_csv(\"supermarket_sales_mod.csv\", index=False)"
   ]
  },
  {
   "cell_type": "code",
   "execution_count": null,
   "id": "cb043615",
   "metadata": {},
   "outputs": [],
   "source": []
  }
 ],
 "metadata": {
  "kernelspec": {
   "display_name": "Python 3",
   "language": "python",
   "name": "python3"
  },
  "language_info": {
   "codemirror_mode": {
    "name": "ipython",
    "version": 3
   },
   "file_extension": ".py",
   "mimetype": "text/x-python",
   "name": "python",
   "nbconvert_exporter": "python",
   "pygments_lexer": "ipython3",
   "version": "3.13.3"
  }
 },
 "nbformat": 4,
 "nbformat_minor": 5
}
